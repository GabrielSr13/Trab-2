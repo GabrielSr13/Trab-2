{
  "nbformat": 4,
  "nbformat_minor": 0,
  "metadata": {
    "colab": {
      "name": "Untitled7.ipynb",
      "provenance": [],
      "collapsed_sections": []
    },
    "kernelspec": {
      "name": "python3",
      "display_name": "Python 3"
    },
    "language_info": {
      "name": "python"
    },
    "accelerator": "GPU"
  },
  "cells": [
    {
      "cell_type": "code",
      "metadata": {
        "colab": {
          "base_uri": "https://localhost:8080/"
        },
        "id": "nOclG0D7PJ1c",
        "outputId": "7cfa8e17-91b9-4d8f-bcf5-fdc3caa35b4e"
      },
      "source": [
        "from numba import cuda\n",
        "\n",
        "import numpy\n",
        "\n",
        "from numpy import *\n",
        "threads_per_block = 16\n",
        "@cuda.jit\n",
        "def my_kernel( matriz_a, matriz_b, matriz_c):\n",
        "    \n",
        "    sA = cuda.shared.array(shape=(threads_per_block, threads_per_block), dtype=float32)\n",
        "    sB = cuda.shared.array(shape=(threads_per_block, threads_per_block), dtype=float32)\n",
        "\n",
        "    x, y = cuda.grid(2)\n",
        "    # Thread id in a 1D block\n",
        "    tx = cuda.threadIdx.x\n",
        "    # Block id in a 1D grid\n",
        "    ty = cuda.threadIdx.y\n",
        "    # Block width, i.e. number of threads per block\n",
        "    bw = cuda.gridDim.x\n",
        "    \n",
        "    # Compute flattened index inside the array\n",
        "    if x >= matriz_c.shape[0] and y >= matriz_c.shape[1]:\n",
        "        # Quit if (x, y) is outside of valid C boundary\n",
        "        return\n",
        "    tmp = 0.\n",
        "    \n",
        "    for i in range(bw):\n",
        "      sA[tx, ty] = matriz_a[x, i ]\n",
        "      sB[tx, ty] = matriz_b[i , y]\n",
        "      \n",
        "      for j in range(threads_per_block):\n",
        "        tmp += sA[tx, j] * sB[j, ty]\n",
        "      \n",
        "        matriz_c[x, y] = tmp  \n",
        "\n",
        "\n",
        "# número de blocos por grid\n",
        "blocks_per_grid = ( 2 + (threads_per_block - 1) )\n",
        "matriz_a = [ [2, 3], [1, 0] ]\n",
        "\n",
        "matriz_b = [ [3, 1], [2, 4] ]\n",
        "\n",
        "a = numpy.array(matriz_a)\n",
        "b = numpy.array(matriz_b)\n",
        "\n",
        "matriz_c =  [ [0, 0], [0, 0]]\n",
        "c = numpy.array(matriz_c)\n",
        "\n",
        "# iniciando o kernel\n",
        "my_kernel[blocks_per_grid, threads_per_block](a, b, c)\n",
        "\n",
        "print(c)\n",
        "\n"
      ],
      "execution_count": 66,
      "outputs": [
        {
          "output_type": "stream",
          "text": [
            "[[12  0]\n",
            " [ 3  0]]\n"
          ],
          "name": "stdout"
        }
      ]
    },
    {
      "cell_type": "code",
      "metadata": {
        "id": "C7YTzis8Sdj2"
      },
      "source": [
        ""
      ],
      "execution_count": null,
      "outputs": []
    }
  ]
}