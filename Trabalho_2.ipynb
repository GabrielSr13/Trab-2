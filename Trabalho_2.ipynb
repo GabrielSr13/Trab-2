{
  "nbformat": 4,
  "nbformat_minor": 0,
  "metadata": {
    "colab": {
      "name": "Trabalho 2.ipynb",
      "provenance": [],
      "collapsed_sections": []
    },
    "kernelspec": {
      "name": "python3",
      "display_name": "Python 3"
    },
    "language_info": {
      "name": "python"
    },
    "accelerator": "GPU"
  },
  "cells": [
    {
      "cell_type": "code",
      "metadata": {
        "colab": {
          "base_uri": "https://localhost:8080/"
        },
        "id": "nOclG0D7PJ1c",
        "outputId": "34f41d4a-62d0-417e-e151-e00d7e736cda"
      },
      "source": [
        "from numba import cuda\n",
        "\n",
        "import numpy\n",
        "\n",
        "from numpy import *\n",
        "threads_per_block = 16\n",
        "tam = 3\n",
        "@cuda.jit\n",
        "def my_kernel(matriz_a, matriz_b, matriz_c, width):\n",
        "    # Thread id in a 1D block\n",
        "    tx = cuda.threadIdx.x\n",
        "\n",
        "    ty = cuda.blockIdx.x\n",
        "\n",
        "    x = 0\n",
        "    soma = 0\n",
        "    if tx < width and ty < width:\n",
        "      while x < width:\n",
        "        soma += matriz_a[tx][x] * matriz_b[x][ty]\n",
        "        x += 1\n",
        "        matriz_c[tx][ty] = soma\n",
        "\n",
        "# número de blocos por grid\n",
        "blocks_per_grid = ( 2 + (threads_per_block - 1) )\n",
        "matriz_a = random.randint(1, 11, size=(tam, tam))\n",
        "\n",
        "matriz_b = random.randint(1, 11, size=(tam, tam))\n",
        "\n",
        "a = numpy.array(matriz_a)\n",
        "b = numpy.array(matriz_b)\n",
        "\n",
        "matriz_c =  [ [0, 0, 0], [0, 0, 0], [0, 0, 0]]\n",
        "c = numpy.array(matriz_c)\n",
        "\n",
        "# iniciando o kernel\n",
        "my_kernel[blocks_per_grid, threads_per_block](a, b, c, tam)\n",
        "\n",
        "print(c)\n",
        "\n"
      ],
      "execution_count": 73,
      "outputs": [
        {
          "output_type": "stream",
          "text": [
            "[[ 42  25  41]\n",
            " [200 140 135]\n",
            " [ 90  58  67]]\n"
          ],
          "name": "stdout"
        }
      ]
    },
    {
      "cell_type": "code",
      "metadata": {
        "id": "C7YTzis8Sdj2"
      },
      "source": [
        ""
      ],
      "execution_count": null,
      "outputs": []
    }
  ]
}